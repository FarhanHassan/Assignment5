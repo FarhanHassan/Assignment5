{
 "cells": [
  {
   "cell_type": "markdown",
   "id": "69f97bb1-7fe0-46a9-b4a4-45ee6cb4f95e",
   "metadata": {},
   "source": [
    "# 1."
   ]
  },
  {
   "cell_type": "code",
   "execution_count": 81,
   "id": "2f4636e3-4b10-48ca-b454-bb5557e1ed3d",
   "metadata": {},
   "outputs": [
    {
     "name": "stdout",
     "output_type": "stream",
     "text": [
      "(1, 'Farhan Hassan', 'Python')\n",
      "(2, 'Ahmed Ali', 'Flutter')\n",
      "(3, 'Shozab Aziz', 'Anroid')\n"
     ]
    }
   ],
   "source": [
    "#You need to store and manage employee records where each record includes anemployee's ID, name, and department. (Use tuples to represent each employee record).\n",
    "employee1 = (1, \"Farhan Hassan\", \"Python\")\n",
    "employee2 = (2, \"Ahmed Ali\", \"Flutter\")\n",
    "employee3 = (3, \"Shozab Aziz\", \"Anroid\")\n",
    "print(employee1[0:3])\n",
    "print(employee2[0:3])\n",
    "print(employee3[0:3])"
   ]
  },
  {
   "cell_type": "markdown",
   "id": "33635860-283f-4270-aa03-0750d6b6dd08",
   "metadata": {},
   "source": [
    "# 2."
   ]
  },
  {
   "cell_type": "code",
   "execution_count": 83,
   "id": "7ecd82eb-6c42-4556-8b9d-d542980431dd",
   "metadata": {},
   "outputs": [
    {
     "name": "stdout",
     "output_type": "stream",
     "text": [
      "(101, 'Mobile', 100)\n",
      "(102, 'Laptop', 50)\n",
      "(103, 'IpaD', 80)\n"
     ]
    }
   ],
   "source": [
    "#You are managing an inventory system where each item has an item ID, description,and quantity available. (Use tuples to represent each inventory item).\n",
    "item1 = (101, \"Mobile\", 100)\n",
    "item2 = (102, \"Laptop\", 50)\n",
    "item3 = (103, \"IpaD\", 80)\n",
    "print(item1[0:3])\n",
    "print(item2[0:3])\n",
    "print(item3[0:3])"
   ]
  },
  {
   "cell_type": "markdown",
   "id": "334ecec3-02e4-496e-8169-ab713f32791a",
   "metadata": {},
   "source": [
    "# 3."
   ]
  },
  {
   "cell_type": "code",
   "execution_count": 85,
   "id": "bc4ac61d-589a-431c-bd1b-2d8d43af8942",
   "metadata": {},
   "outputs": [
    {
     "name": "stdout",
     "output_type": "stream",
     "text": [
      "('Team Meeting', ('1-2-2024', '8:00-9:00'))\n",
      "('Project Deadline', ('1-2-2024', '10:00-11:00'))\n",
      "('Client Call', ('1-2-2024', '12:00-1:00'))\n"
     ]
    }
   ],
   "source": [
    "#3. You need to store the dates and times of scheduled events, like meetings or appointments. (Use tuples to store date and time information).\n",
    "event1 = (\"Team Meeting\", (\"1-2-2024\",\"8:00-9:00\" ))  \n",
    "event2 = (\"Project Deadline\", (\"1-2-2024\",\"10:00-11:00\"))\n",
    "event3 = (\"Client Call\", (\"1-2-2024\",\"12:00-1:00\"))\n",
    "print(event1[0:2]) \n",
    "print(event2[0:2])  \n",
    "print(event3[0:2])"
   ]
  },
  {
   "cell_type": "markdown",
   "id": "61ec8a15-cd1d-498f-abe7-4ea61bab8c31",
   "metadata": {},
   "source": [
    "# 4."
   ]
  },
  {
   "cell_type": "code",
   "execution_count": 87,
   "id": "a2910294-5bbc-4b37-998c-8f13d21cc2ca",
   "metadata": {},
   "outputs": [],
   "source": [
    "#Store a company's employee details, organized by department. (Use dictionary in dictionary).\n",
    "employees = {\n",
    "    'Engineering': {\n",
    "        'emp1': {\n",
    "            'id': 101,\n",
    "            'name': 'Sara',\n",
    "            'age': 29,\n",
    "            'gender': 'female'\n",
    "        },\n",
    "        'emp2': {\n",
    "            'id': 102,\n",
    "            'name': 'Samar',\n",
    "            'age': 34,\n",
    "            'gender': 'male'\n",
    "        }\n",
    "    },\n",
    "    'Marketing': {\n",
    "        'emp1': {\n",
    "            'id': 201,\n",
    "            'name': 'Rida',\n",
    "            'age': 24,\n",
    "            'gender': 'female'\n",
    "        },\n",
    "        'emp2': {\n",
    "            'id': 202,\n",
    "            'name': 'Haider',\n",
    "            'age': 34,\n",
    "            'gender': 'male'\n",
    "        }\n",
    "    }\n",
    "}\n"
   ]
  },
  {
   "cell_type": "code",
   "execution_count": 88,
   "id": "ce1002dc-f56c-460d-977c-d09a04c0f358",
   "metadata": {},
   "outputs": [
    {
     "data": {
      "text/plain": [
       "{'Engineering': {'emp1': {'id': 101,\n",
       "   'name': 'Sara',\n",
       "   'age': 29,\n",
       "   'gender': 'female'},\n",
       "  'emp2': {'id': 102, 'name': 'Samar', 'age': 34, 'gender': 'male'}},\n",
       " 'Marketing': {'emp1': {'id': 201,\n",
       "   'name': 'Rida',\n",
       "   'age': 24,\n",
       "   'gender': 'female'},\n",
       "  'emp2': {'id': 202, 'name': 'Haider', 'age': 34, 'gender': 'male'}}}"
      ]
     },
     "execution_count": 88,
     "metadata": {},
     "output_type": "execute_result"
    }
   ],
   "source": [
    "employees"
   ]
  },
  {
   "cell_type": "markdown",
   "id": "a5727f33-d948-459f-82e1-41b61f5a79d2",
   "metadata": {},
   "source": [
    "# 5."
   ]
  },
  {
   "cell_type": "code",
   "execution_count": 90,
   "id": "49b9bb78-c3c3-4974-b941-f5f5e81e080f",
   "metadata": {},
   "outputs": [],
   "source": [
    "#Keep track of student scores in various subjects and retrieve a student's scores. (Use dictionary in List).\n",
    "students = [\n",
    "    {\n",
    "        'name': 'Ali',\n",
    "        'scores': {\n",
    "            'Math': 85,\n",
    "            'Science': 90,\n",
    "            'English': 88\n",
    "        }\n",
    "    },\n",
    "    {\n",
    "        'name': 'Bilal',\n",
    "        'scores': {\n",
    "            'Math': 78,\n",
    "            'Science': 82,\n",
    "            'English': 80\n",
    "        }\n",
    "    },\n",
    "    {\n",
    "        'name': 'Sara',\n",
    "        'scores': {\n",
    "            'Math': 92,\n",
    "            'Science': 89,\n",
    "            'English': 94\n",
    "        }\n",
    "    }\n",
    "]\n"
   ]
  },
  {
   "cell_type": "code",
   "execution_count": 91,
   "id": "f5ef25f6-4232-461a-aa4d-646e98abc95c",
   "metadata": {},
   "outputs": [
    {
     "data": {
      "text/plain": [
       "[{'name': 'Ali', 'scores': {'Math': 85, 'Science': 90, 'English': 88}},\n",
       " {'name': 'Bilal', 'scores': {'Math': 78, 'Science': 82, 'English': 80}},\n",
       " {'name': 'Sara', 'scores': {'Math': 92, 'Science': 89, 'English': 94}}]"
      ]
     },
     "execution_count": 91,
     "metadata": {},
     "output_type": "execute_result"
    }
   ],
   "source": [
    "students"
   ]
  },
  {
   "cell_type": "markdown",
   "id": "c53fcca2-9017-4538-81ef-c37c5ec0216e",
   "metadata": {},
   "source": [
    "# 6."
   ]
  },
  {
   "cell_type": "code",
   "execution_count": 93,
   "id": "c286ccd7-2e54-496f-a25b-9430368a907d",
   "metadata": {},
   "outputs": [],
   "source": [
    "#Track various projects and their associated tasks, and retrieve tasks for a specific project. (Use List in Dictionary).\n",
    "projects = {\n",
    "    'Project A': [\n",
    "        {\n",
    "            'task_id': 1,\n",
    "            'description': 'Create Website',\n",
    "            'status': 'Completed'\n",
    "        },\n",
    "        {\n",
    "            'task_id': 2,\n",
    "            'description': 'Create Anndroid Application',\n",
    "            'status': 'In Progress'\n",
    "        }\n",
    "    ],\n",
    "    'Project B': [\n",
    "        {\n",
    "            'task_id': 1,\n",
    "            'description': 'Maintain Database',\n",
    "            'status': 'In Progress'\n",
    "        },\n",
    "        {\n",
    "            'task_id': 2,\n",
    "            'description': 'Design',\n",
    "            'status': 'Completed'\n",
    "        }\n",
    "    ]\n",
    "}\n"
   ]
  },
  {
   "cell_type": "code",
   "execution_count": 94,
   "id": "c967ceba-af68-41b6-be4b-39e50a3b6834",
   "metadata": {},
   "outputs": [
    {
     "data": {
      "text/plain": [
       "{'Project A': [{'task_id': 1,\n",
       "   'description': 'Create Website',\n",
       "   'status': 'Completed'},\n",
       "  {'task_id': 2,\n",
       "   'description': 'Create Anndroid Application',\n",
       "   'status': 'In Progress'}],\n",
       " 'Project B': [{'task_id': 1,\n",
       "   'description': 'Maintain Database',\n",
       "   'status': 'In Progress'},\n",
       "  {'task_id': 2, 'description': 'Design', 'status': 'Completed'}]}"
      ]
     },
     "execution_count": 94,
     "metadata": {},
     "output_type": "execute_result"
    }
   ],
   "source": [
    "projects"
   ]
  },
  {
   "cell_type": "markdown",
   "id": "77c66bc0-6b7e-4651-a0c9-f95d4258449d",
   "metadata": {},
   "source": [
    "# 7."
   ]
  },
  {
   "cell_type": "code",
   "execution_count": 96,
   "id": "470c7cd9-63b3-4d55-bde2-dde334a3cfe9",
   "metadata": {},
   "outputs": [],
   "source": [
    "#Manage courses and their contents in a training program and retrieve details of a specific module. (dictionary in dictionary)\n",
    "training_program = {\n",
    "    'Marketing Management': {\n",
    "        'Module1': {\n",
    "            'title': 'Introduction to Marketing',\n",
    "            'duration': '3 hours',\n",
    "            'content': 'Fundamentals of marketing, market research, and consumer behavior'\n",
    "        },\n",
    "        'Module2': {\n",
    "            'title': 'Marketing Strategies',\n",
    "            'duration': '4 hours',\n",
    "            'content': 'Developing marketing plans, segmentation, and positioning'\n",
    "        }\n",
    "    },\n",
    "    'Financial Accounting': {\n",
    "        'Module1': {\n",
    "            'title': 'Basics of Accounting',\n",
    "            'duration': '4 hours',\n",
    "            'content': 'Accounting principles, financial statements, and journal entries'\n",
    "        },\n",
    "        'Module2': {\n",
    "            'title': 'Financial Analysis',\n",
    "            'duration': '5 hours',\n",
    "            'content': 'Analyzing financial statements, ratio analysis, and financial forecasting'\n",
    "        }\n",
    "    },\n",
    "    'Human Resource Management': {\n",
    "        'Module1': {\n",
    "            'title': 'HR Basics',\n",
    "            'duration': '3 hours',\n",
    "            'content': 'Introduction to HR, recruitment, and selection'\n",
    "        },\n",
    "        'Module2': {\n",
    "            'title': 'Performance Management',\n",
    "            'duration': '4 hours',\n",
    "            'content': 'Employee performance appraisals, development plans, and feedback mechanisms'\n",
    "        }\n",
    "    }\n",
    "}\n"
   ]
  },
  {
   "cell_type": "code",
   "execution_count": 97,
   "id": "67cc5f72-b90d-4d6f-a673-1cc81664341d",
   "metadata": {},
   "outputs": [
    {
     "data": {
      "text/plain": [
       "{'Marketing Management': {'Module1': {'title': 'Introduction to Marketing',\n",
       "   'duration': '3 hours',\n",
       "   'content': 'Fundamentals of marketing, market research, and consumer behavior'},\n",
       "  'Module2': {'title': 'Marketing Strategies',\n",
       "   'duration': '4 hours',\n",
       "   'content': 'Developing marketing plans, segmentation, and positioning'}},\n",
       " 'Financial Accounting': {'Module1': {'title': 'Basics of Accounting',\n",
       "   'duration': '4 hours',\n",
       "   'content': 'Accounting principles, financial statements, and journal entries'},\n",
       "  'Module2': {'title': 'Financial Analysis',\n",
       "   'duration': '5 hours',\n",
       "   'content': 'Analyzing financial statements, ratio analysis, and financial forecasting'}},\n",
       " 'Human Resource Management': {'Module1': {'title': 'HR Basics',\n",
       "   'duration': '3 hours',\n",
       "   'content': 'Introduction to HR, recruitment, and selection'},\n",
       "  'Module2': {'title': 'Performance Management',\n",
       "   'duration': '4 hours',\n",
       "   'content': 'Employee performance appraisals, development plans, and feedback mechanisms'}}}"
      ]
     },
     "execution_count": 97,
     "metadata": {},
     "output_type": "execute_result"
    }
   ],
   "source": [
    "training_program"
   ]
  },
  {
   "cell_type": "markdown",
   "id": "dd5ce45b-cf32-4722-b09f-c99d67ff4159",
   "metadata": {},
   "source": [
    "# 8."
   ]
  },
  {
   "cell_type": "code",
   "execution_count": 99,
   "id": "f78b19bb-5f2d-49fb-b1a4-d1eb2110ad82",
   "metadata": {},
   "outputs": [
    {
     "name": "stdout",
     "output_type": "stream",
     "text": [
      "Product: Coffee Maker is expensive with a price of $120\n",
      "Product: Blender is affordable with a price of $90\n",
      "Product: Toaster is affordable with a price of $45\n",
      "Product: Microwave is expensive with a price of $150\n",
      "Product: Refrigerator is expensive with a price of $800\n",
      "Product: Electric Kettle is affordable with a price of $70\n"
     ]
    }
   ],
   "source": [
    "#8.You have a list where each element is a tuple containing a product's name and its price. You need to find products that are below a certain price threshold. (Use unpackinglists of tuples)\n",
    "products = [\n",
    "    (\"Coffee Maker\", 120),\n",
    "    (\"Blender\", 90),\n",
    "    (\"Toaster\", 45),\n",
    "    (\"Microwave\", 150),\n",
    "    (\"Refrigerator\", 800),\n",
    "    (\"Electric Kettle\", 70)\n",
    "]\n",
    "for product, price in products:\n",
    "    if price > 100:\n",
    "        print(f\"Product: {product} is expensive with a price of ${price}\")\n",
    "    else:\n",
    "        print(f\"Product: {product} is affordable with a price of ${price}\")\n",
    "\n"
   ]
  }
 ],
 "metadata": {
  "kernelspec": {
   "display_name": "Python 3 (ipykernel)",
   "language": "python",
   "name": "python3"
  },
  "language_info": {
   "codemirror_mode": {
    "name": "ipython",
    "version": 3
   },
   "file_extension": ".py",
   "mimetype": "text/x-python",
   "name": "python",
   "nbconvert_exporter": "python",
   "pygments_lexer": "ipython3",
   "version": "3.12.4"
  }
 },
 "nbformat": 4,
 "nbformat_minor": 5
}
